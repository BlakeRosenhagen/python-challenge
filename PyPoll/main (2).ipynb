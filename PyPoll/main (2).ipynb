{
 "cells": [
  {
   "cell_type": "code",
   "execution_count": 23,
   "metadata": {},
   "outputs": [
    {
     "name": "stdout",
     "output_type": "stream",
     "text": [
      "Election Results\n",
      "-------------------\n",
      "Total Votes: 3521001\n",
      "-------------------\n",
      "Khan: 63.000% (2218231)\n",
      "Correy: 20.000% (704200)\n",
      "Li: 14.000% (492940)\n",
      "O'Tooley: 3.000% (105630)\n",
      "-------------------------\n",
      "Winner: Khan\n",
      "-------------------------\n",
      "\n"
     ]
    }
   ],
   "source": [
    "\n",
    "import csv\n",
    "import os\n",
    "\n",
    "loadpath = os.path.join(\"Resources\", \"election_data.csv\")\n",
    "outputpath = os.path.join(\"analysis\", \"election_analysis.txt\")\n",
    "\n",
    "\n",
    "candlist=[]\n",
    "candvotes={}\n",
    "totalvotes=0\n",
    "candwin = \"\"\n",
    "votewin=0\n",
    "numberofwins = 0\n",
    "output00 = \"\"\n",
    "output02 = \"\"\n",
    "output03 = \"\"\n",
    "\n",
    "\n",
    "with open(loadpath) as election_data:\n",
    "    reader = csv.reader(election_data)\n",
    "\n",
    "    head = next(reader)\n",
    "\n",
    "\n",
    "    for row in reader:\n",
    "        totalvotes = totalvotes + 1\n",
    "\n",
    "        candname = row[2]\n",
    "\n",
    "        if candname not in candlist:\n",
    "            candlist.append(candname)\n",
    "            candvotes[candname] = 0\n",
    "        candvotes[candname] = candvotes[candname] + 1\n",
    "\n",
    "    \n",
    "    output00=(\"Election Results\\n\"\n",
    "         \"-------------------\\n\"\n",
    "         f\"Total Votes: {totalvotes}\\n\"\n",
    "         \"-------------------\")\n",
    "    print(output00)\n",
    "    with open(outputpath, \"w\") as txt_file:\n",
    "        txt_file.write(str(output01))\n",
    "        \n",
    "        \n",
    "    for cand in candvotes:\n",
    "        votes = candvotes.get(cand)\n",
    "        votepercent = float(votes) / float(totalvotes) * 100\n",
    "\n",
    "        if (votes > votewin):\n",
    "            votewin = votes\n",
    "            candwin = cand\n",
    "\n",
    "        output02 = f\"{cand}: {votepercent :.3f}% ({votes})\\n\"\n",
    "        print(output02, end=\"\")\n",
    "        with open(outputpath, \"a\") as txt_file:\n",
    "            txt_file.write(output02)\n",
    "\n",
    "    \n",
    "    output03 = (\n",
    "        f\"-------------------------\\n\"\n",
    "        f\"Winner: {candwin}\\n\"\n",
    "        f\"-------------------------\\n\")\n",
    "    print(output03)\n",
    "    with open(outputpath, \"a\") as txt_file:\n",
    "        txt_file.write(output03)"
   ]
  },
  {
   "cell_type": "code",
   "execution_count": null,
   "metadata": {},
   "outputs": [],
   "source": []
  },
  {
   "cell_type": "code",
   "execution_count": null,
   "metadata": {},
   "outputs": [],
   "source": []
  }
 ],
 "metadata": {
  "kernelspec": {
   "display_name": "Python 3",
   "language": "python",
   "name": "python3"
  },
  "language_info": {
   "codemirror_mode": {
    "name": "ipython",
    "version": 3
   },
   "file_extension": ".py",
   "mimetype": "text/x-python",
   "name": "python",
   "nbconvert_exporter": "python",
   "pygments_lexer": "ipython3",
   "version": "3.6.8"
  }
 },
 "nbformat": 4,
 "nbformat_minor": 2
}
