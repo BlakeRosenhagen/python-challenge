{
 "cells": [
  {
   "cell_type": "code",
   "execution_count": 5,
   "metadata": {},
   "outputs": [],
   "source": [
    "import os\n",
    "import csv"
   ]
  },
  {
   "cell_type": "code",
   "execution_count": 6,
   "metadata": {},
   "outputs": [],
   "source": [
    "filepath=os.path.join(\"Resources\",\"budget_data.csv\")\n",
    "fileoutpath=os.path.join(\"analysis\", \"budget_analysis.txt\")"
   ]
  },
  {
   "cell_type": "code",
   "execution_count": 7,
   "metadata": {},
   "outputs": [],
   "source": [
    "totalmonths=0\n",
    "netmoney=0\n",
    "biggestdecrease=0\n",
    "biggestincrease=0\n",
    "listofchanges=[]"
   ]
  },
  {
   "cell_type": "code",
   "execution_count": 8,
   "metadata": {},
   "outputs": [],
   "source": [
    "with open(filepath) as data:\n",
    "    csvreader = csv.reader(data)\n",
    "    \n",
    "    head=next(csvreader)\n",
    "    toprow = next(csvreader)\n",
    "    totalmonths = totalmonths + 1\n",
    "    netmoney = netmoney + int(toprow[1])\n",
    "    changebefore = int(toprow[1])\n",
    "    \n",
    "    for row in csvreader:\n",
    "        totalmonths = totalmonths + 1\n",
    "        netmoney = netmoney + int(row[1])\n",
    "        change = int(row[1]) - changebefore\n",
    "        changebefore = int(row[1])\n",
    "        listofchanges = listofchanges + [change]\n",
    "        \n",
    "\n",
    "        if change > biggestincrease:\n",
    "            biggestincrease=change\n",
    "        elif change < biggestdecrease:\n",
    "            biggestdecrease=change\n",
    "        else:\n",
    "            next\n",
    "avgnetpermonth = sum(listofchanges) / len(listofchanges)"
   ]
  },
  {
   "cell_type": "code",
   "execution_count": 9,
   "metadata": {},
   "outputs": [
    {
     "data": {
      "text/plain": [
       "86"
      ]
     },
     "execution_count": 9,
     "metadata": {},
     "output_type": "execute_result"
    }
   ],
   "source": [
    "totalmonths\n"
   ]
  },
  {
   "cell_type": "code",
   "execution_count": 11,
   "metadata": {},
   "outputs": [
    {
     "name": "stdout",
     "output_type": "stream",
     "text": [
      "Financial Analysis\n",
      "----------------------------\n",
      "Total Months: 86\n",
      "Total: $38382578\n",
      "Average  Change: $-2315.12\n",
      "Greatest Increase in Profits: $1926159\n",
      "Greatest Decrease in Profits: $-2196167\n",
      "\n"
     ]
    }
   ],
   "source": [
    "output=(\n",
    "    f'Financial Analysis\\n'\n",
    "    f'----------------------------\\n'\n",
    "    f'Total Months: {totalmonths}\\n'\n",
    "    f'Total: ${netmoney}\\n'\n",
    "    f'Average  Change: ${avgnetpermonth:.2f}\\n'\n",
    "    f'Greatest Increase in Profits: ${biggestincrease}\\n'\n",
    "    f'Greatest Decrease in Profits: ${biggestdecrease}\\n'\n",
    ")\n",
    "print(output)"
   ]
  },
  {
   "cell_type": "code",
   "execution_count": null,
   "metadata": {},
   "outputs": [],
   "source": [
    "with open(fileoutpath, \"w\") as txt_file:\n",
    "    txt_file.write(str(output))"
   ]
  }
 ],
 "metadata": {
  "kernelspec": {
   "display_name": "Python 3",
   "language": "python",
   "name": "python3"
  },
  "language_info": {
   "codemirror_mode": {
    "name": "ipython",
    "version": 3
   },
   "file_extension": ".py",
   "mimetype": "text/x-python",
   "name": "python",
   "nbconvert_exporter": "python",
   "pygments_lexer": "ipython3",
   "version": "3.6.8"
  }
 },
 "nbformat": 4,
 "nbformat_minor": 2
}
